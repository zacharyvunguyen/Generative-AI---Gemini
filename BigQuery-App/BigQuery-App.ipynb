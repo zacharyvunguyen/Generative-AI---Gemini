{
 "cells": [
  {
   "cell_type": "code",
   "execution_count": 5,
   "id": "initial_id",
   "metadata": {
    "collapsed": true,
    "ExecuteTime": {
     "end_time": "2024-06-20T17:29:43.924761Z",
     "start_time": "2024-06-20T17:29:43.915433Z"
    }
   },
   "outputs": [
    {
     "name": "stdout",
     "output_type": "stream",
     "text": [
      "Project ID: nguyen-gemini\n",
      "Location: us-central1\n",
      "Dataset ID: thelook_ecommerce\n",
      "Google Application Credentials: /Users/zacharynguyen/Documents/GitHub/2024/Generative-AI---Gemini/BigQuery-App/service_accounts/nguyen-gemini-e9f35e46b3c2.json\n"
     ]
    }
   ],
   "source": [
    "from dotenv import load_dotenv\n",
    "import os\n",
    "\n",
    "# Load environment variables from .env file\n",
    "load_dotenv()\n",
    "\n",
    "# Access the environment variables\n",
    "PROJECT_ID = os.getenv(\"PROJECT_ID\")\n",
    "LOCATION = os.getenv(\"LOCATION\")\n",
    "DATASET_ID = os.getenv(\"DATASET_ID\")\n",
    "GOOGLE_APPLICATION_CREDENTIALS = os.getenv(\"GOOGLE_APPLICATION_CREDENTIALS\")\n",
    "\n",
    "print(f\"Project ID: {PROJECT_ID}\")\n",
    "print(f\"Location: {LOCATION}\")\n",
    "print(f\"Dataset ID: {DATASET_ID}\")\n",
    "print(f\"Google Application Credentials: {GOOGLE_APPLICATION_CREDENTIALS}\")\n",
    "\n",
    "# Set the GOOGLE_APPLICATION_CREDENTIALS environment variable for the Google Cloud SDK\n",
    "os.environ[\"GOOGLE_APPLICATION_CREDENTIALS\"] = GOOGLE_APPLICATION_CREDENTIALS"
   ]
  },
  {
   "cell_type": "markdown",
   "source": [
    "## BigQuery Setup"
   ],
   "metadata": {
    "collapsed": false
   },
   "id": "bb6d811f962edbc"
  },
  {
   "cell_type": "markdown",
   "source": [
    "### Create Dataset"
   ],
   "metadata": {
    "collapsed": false
   },
   "id": "d37a0749e3474143"
  },
  {
   "cell_type": "code",
   "outputs": [
    {
     "name": "stdout",
     "output_type": "stream",
     "text": [
      "Dataset thelook_ecommerce created successfully.\n"
     ]
    }
   ],
   "source": [
    "from google.cloud import bigquery\n",
    "\n",
    "# Initialize a BigQuery client\n",
    "client = bigquery.Client()\n",
    "dataset_id= DATASET_ID\n",
    "dataset_ref = f\"{PROJECT_ID}.{dataset_id}\"\n",
    "\n",
    "# Create a Dataset object\n",
    "dataset = bigquery.Dataset(dataset_ref)\n",
    "\n",
    "# Optionally, set the location of the dataset\n",
    "dataset.location = \"US\"\n",
    "\n",
    "# Create the dataset\n",
    "try:\n",
    "    dataset = client.create_dataset(dataset)\n",
    "    print(f\"Dataset {dataset.dataset_id} created successfully.\")\n",
    "except Exception as e:\n",
    "    print(f\"Failed to create dataset: {e}\")\n"
   ],
   "metadata": {
    "collapsed": false,
    "ExecuteTime": {
     "end_time": "2024-06-20T17:30:16.826367Z",
     "start_time": "2024-06-20T17:30:16.132590Z"
    }
   },
   "id": "37847daaf94eb898",
   "execution_count": 7
  },
  {
   "cell_type": "markdown",
   "source": [
    "### Sets up a transfer configuration\n",
    "Copy the thelook_ecommerce dataset from the public dataset in the bigquery-public-data project to your newly created dataset."
   ],
   "metadata": {
    "collapsed": false
   },
   "id": "cc20a4e12995d39d"
  },
  {
   "cell_type": "code",
   "outputs": [],
   "source": [
    "#bq mk \\\n",
    "#  --transfer_config \\\n",
    "#  --data_source=cross_region_copy \\\n",
    "#  --target_dataset=thelook_ecommerce \\\n",
    "#  --display_name='SQL Talk Sample Data' \\\n",
    "#  --schedule_end_time=\"$(date -u -d '5 mins' +%Y-%m-%dT%H:%M:%SZ)\" \\\n",
    "#  --params='{\n",
    "#      \"source_project_id\":\"bigquery-public-data\",\n",
    "#      \"source_dataset_id\":\"thelook_ecommerce\",\n",
    "#      \"overwrite_destination_table\":\"true\"\n",
    "#      }'"
   ],
   "metadata": {
    "collapsed": false
   },
   "id": "ff0b7fa29f8c9c9a"
  }
 ],
 "metadata": {
  "kernelspec": {
   "display_name": "Python 3",
   "language": "python",
   "name": "python3"
  },
  "language_info": {
   "codemirror_mode": {
    "name": "ipython",
    "version": 2
   },
   "file_extension": ".py",
   "mimetype": "text/x-python",
   "name": "python",
   "nbconvert_exporter": "python",
   "pygments_lexer": "ipython2",
   "version": "2.7.6"
  }
 },
 "nbformat": 4,
 "nbformat_minor": 5
}
